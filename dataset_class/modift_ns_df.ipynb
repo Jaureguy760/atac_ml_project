{
 "cells": [
  {
   "cell_type": "code",
   "execution_count": null,
   "id": "32823ba0-e234-4868-aefd-55fb3cfaef9b",
   "metadata": {},
   "outputs": [],
   "source": [
    "import pandas as pd\n",
    "#Dict approach\n",
    "import glob\n",
    "import os\n",
    "import sys\n",
    "from pathlib import Path\n",
    "#from typing import Any, Optional\n",
    "import numpy as np\n",
    "import pandas as pd\n",
    "import torch\n",
    "from torch.utils.data import Dataset, DataLoader\n",
    "import h5py\n",
    "# Imports\n",
    "from enum import Enum\n",
    "from pathlib import Path\n",
    "from typing import Any, Optional\n",
    "from torch import nn\n",
    "import pytorch_lightning as pl\n",
    "import h5py\n",
    "from tqdm.notebook import tqdm\n",
    "#from .transforms import KmerShuffle\n",
    "\n"
   ]
  },
  {
   "cell_type": "code",
   "execution_count": null,
   "id": "1b997fb8-6d43-4412-9c3b-89ab06379dbb",
   "metadata": {},
   "outputs": [],
   "source": [
    "#Load genome loader for salk cluster\n",
    "sys.path.append('/iblm/netapp/home/jjaureguy/genome_loader/genome-loader/src')\n",
    "\n",
    "sample_path = os.listdir('/iblm/netapp/data3/jjaureguy/PRJEB18997/10_genos/10_genos_fastq')"
   ]
  },
  {
   "cell_type": "code",
   "execution_count": null,
   "id": "cc304f2a-b9db-4963-8cb1-ecff9fa09207",
   "metadata": {},
   "outputs": [],
   "source": [
    "# Total Dataset not split \n",
    "unified_bed_file_df = pd.read_csv('/iblm/netapp/data4/jjaureguy/jupyter/data_frames/unified_bed_df.txt',sep='\\t')\n",
    "frag_tn5_h5_df = pd.read_csv('/iblm/netapp/data4/jjaureguy/jupyter/data_frames/frag_tn5_h5_df.txt',sep='\\t')\n",
    "\n",
    "#OHE for AGCT\n",
    "one_hot_enc_genome = h5py.File('/iblm/netapp/data4/jjaureguy/out_dir/genome_onehot.h5','r')\n",
    "\n",
    "# Train\n",
    "frag_tn5_train_df = pd.read_csv('/iblm/netapp/data4/jjaureguy/jupyter/data_frames/runai_df/train_frag_tn5_h5_df_runai.txt',sep='\\t')\n",
    "train_bed_file_df = pd.read_csv('/iblm/netapp/data4/jjaureguy/jupyter/data_frames/runai_df/valid_df_runai.txt',sep='\\t')\n",
    "\n",
    "# Validation\n",
    "frag_tn5_valid_df = pd.read_csv('/iblm/netapp/data4/jjaureguy/jupyter/data_frames/runai_df/valid_frag_tn5_h5_df_runai.txt',sep='\\t')\n",
    "valid_bed_file_df = pd.read_csv('/iblm/netapp/data4/jjaureguy/jupyter/data_frames/runai_df/valid_df_runai.txt',sep='\\t')\n",
    "# Test\n",
    "frag_tn5_test_df = pd.read_csv('/iblm/netapp/data4/jjaureguy/jupyter/data_frames/runai_df/test_frag_tn5_h5_df_runai.txt',sep='\\t')\n",
    "test_bed_file_df = pd.read_csv('/iblm/netapp/data4/jjaureguy/jupyter/data_frames/runai_df/test_df_runai.txt',sep='\\t')\n",
    "\n",
    "\n"
   ]
  },
  {
   "cell_type": "code",
   "execution_count": null,
   "id": "9359602c-c5e3-4cdf-b879-b2cb46acd160",
   "metadata": {},
   "outputs": [],
   "source": [
    "unified_bed_file_df\n",
    "df_experimental = unified_bed_file_df.copy(deep=True)"
   ]
  },
  {
   "cell_type": "code",
   "execution_count": null,
   "id": "cff7dcc9-7f33-4026-962e-2a9fc5947935",
   "metadata": {},
   "outputs": [],
   "source": [
    "df_experimental['Contains_n'] = \"\"\n",
    "df_experimental['Counter'] = \"\""
   ]
  },
  {
   "cell_type": "code",
   "execution_count": null,
   "id": "dac73156-44c2-4ee5-822c-412462ac46e6",
   "metadata": {},
   "outputs": [],
   "source": [
    "# Code to ref for apply function\n",
    "def foo(row):\n",
    "    print(type(row))\n",
    "    assert False  # because you only need to see this once\n",
    "df_experimental.apply(lambda row: foo(row), axis=1)"
   ]
  },
  {
   "cell_type": "markdown",
   "id": "ce7977e5-09d0-4039-bfe9-be39e1e75a2b",
   "metadata": {},
   "source": [
    "# Pre compute peak files"
   ]
  },
  {
   "cell_type": "code",
   "execution_count": null,
   "id": "b6cb9137-36cb-45fb-88fa-4658ba07479e",
   "metadata": {},
   "outputs": [],
   "source": [
    "def get_mid_point(start, end):\n",
    "    #np.random.seed(0)\n",
    "    mid_point = int((start+end)/2)\n",
    "    #mid_point = np.random.choice(mid_point, 1, replace=True)\n",
    "    #print('mid pt selection random', (mid_point))\n",
    "    #mid_point = mid_point.item()\n",
    "    return mid_point\n",
    "    \n",
    "def get_x_window(mid_point):\n",
    "    bounds = (mid_point-512, mid_point + 512)\n",
    "    #self.d['1024_bp_start_end'] = bounds\n",
    "    bounds = range(mid_point-512, mid_point + 512)\n",
    "    mid_point = list(bounds)\n",
    "    return mid_point\n",
    "\n",
    "len_ds = []\n",
    "\n",
    "def generate_peak_file(one_hot_enc_genome, df_experimental):\n",
    "    #for index in range(len(unified_bed_file_df)):\n",
    "        peak_index = (index // len(df_experimental))\n",
    "        coords = df_experimental.iloc[peak_index]\n",
    "        window = get_mid_point(coords.start,coords.end)\n",
    "        temp = get_x_window(mid_point=window)\n",
    "        x = one_hot_enc_genome[coords.chrom]['onehot'][temp]\n",
    "        #Checks if [0000] OHE vector which represents N's are in the ndarray and returns None if they are\n",
    "        if ([0,0,0,0] == x).all(axis = 1).any():\n",
    "            #print('true')\n",
    "            #f_read_depth_h5.loc[df_read_depth_h5['imbalanced_treatments'] == False]\n",
    "            #df.loc[df.index[0], 'a']\n",
    "            #df_experimental.loc[peak_index, 'Contains_n'] = True\n",
    "            len_ds.append('True')\n",
    "            \n",
    "        \n",
    "        else:\n",
    "            #df_experimental.loc[peak_index, 'Contains_n'] = False             \n",
    "            len_ds.append('False')\n",
    "def foo(row):\n",
    "    counter = 0\n",
    "    #print('row',row)\n",
    "    window = get_mid_point(row.start,row.end)\n",
    "    temp = get_x_window(mid_point=window)\n",
    "    x = one_hot_enc_genome[row.chrom]['onehot'][temp]\n",
    "    #row.Contains_n = True\n",
    "    if ([0,0,0,0] == x).all(axis = 1).any():\n",
    "        df_experimental['Contains_n'] = True\n",
    "        #print('true')\n",
    "        #print(x)\n",
    "        counter +=1\n",
    "        df_experimental['Counter'] = counter\n",
    "    else:\n",
    "        df_experimental['Contains_n'] = False\n",
    "    return counter"
   ]
  },
  {
   "cell_type": "code",
   "execution_count": null,
   "id": "e5807bd8-8ac5-4822-bb7d-0ded72d08260",
   "metadata": {},
   "outputs": [],
   "source": [
    "df_experimental['Contains_n'] = df_experimental.apply(lambda row: foo(row), axis=1)"
   ]
  },
  {
   "cell_type": "code",
   "execution_count": null,
   "id": "c5d4e0dd-a28a-445c-86d0-5ed04fbbaff5",
   "metadata": {},
   "outputs": [],
   "source": [
    "df_experimental['Counter'] = df_experimental.apply(lambda row: foo(row), axis=1)"
   ]
  },
  {
   "cell_type": "code",
   "execution_count": null,
   "id": "7b81c781-a6ac-478d-ac86-4d6b23b3d388",
   "metadata": {},
   "outputs": [],
   "source": [
    "df_experimental.value_counts('Counter')"
   ]
  },
  {
   "cell_type": "code",
   "execution_count": null,
   "id": "baafdc01-bffc-4ef3-b3ed-74b432119e16",
   "metadata": {},
   "outputs": [],
   "source": [
    "df = pd.read_csv('/iblm/netapp/data4/jjaureguy/jupyter/data_frames/runai_df/df_filtered.txt', sep='\\t')"
   ]
  },
  {
   "cell_type": "code",
   "execution_count": null,
   "id": "030e4338-a09c-4a79-b8f8-a17846cd3bf3",
   "metadata": {},
   "outputs": [],
   "source": [
    "df"
   ]
  },
  {
   "cell_type": "code",
   "execution_count": null,
   "id": "4bdf920b-5965-425f-b1ec-4ccbff52b9f5",
   "metadata": {},
   "outputs": [],
   "source": [
    "df.drop('Unnamed: 0', inplace=True, axis=1)"
   ]
  },
  {
   "cell_type": "code",
   "execution_count": null,
   "id": "6ea34ca6-b775-4642-8ec9-aa7c16b96aea",
   "metadata": {},
   "outputs": [],
   "source": [
    "df"
   ]
  },
  {
   "cell_type": "code",
   "execution_count": null,
   "id": "fbaf0662-89e3-4177-b780-4eb59e6704ea",
   "metadata": {},
   "outputs": [],
   "source": [
    " filtered_df = df.loc[df['Contains_n'] == 0]"
   ]
  },
  {
   "cell_type": "code",
   "execution_count": null,
   "id": "8c58bd7b-d74c-40b5-a7bb-e19a33c64421",
   "metadata": {},
   "outputs": [],
   "source": [
    "filtered_df = filtered_df.reset_index(drop=True)"
   ]
  },
  {
   "cell_type": "code",
   "execution_count": null,
   "id": "0564fdd9-2686-490a-9233-853bb36b2c48",
   "metadata": {},
   "outputs": [],
   "source": [
    "train_df = filtered_df.loc[filtered_df['train'] == True, ['chrom', 'start', 'end']]\n",
    "valid_df = filtered_df.loc[filtered_df['valid'] == True, ['chrom', 'start', 'end']]\n",
    "test_df = filtered_df.loc[filtered_df['test'] == True, ['chrom', 'start', 'end']]"
   ]
  },
  {
   "cell_type": "code",
   "execution_count": null,
   "id": "2f91fc14-b640-4c3c-9c69-ed0a9f2a00bc",
   "metadata": {},
   "outputs": [],
   "source": [
    "train_df = train_df.reset_index(drop=True)\n",
    "valid_df = valid_df.reset_index(drop=True)\n",
    "test_df = test_df.reset_index(drop=True)"
   ]
  },
  {
   "cell_type": "code",
   "execution_count": null,
   "id": "f980a369-df36-4cb4-bded-95fa2984d64b",
   "metadata": {},
   "outputs": [],
   "source": [
    "train_df.to_csv('/iblm/netapp/data4/jjaureguy/jupyter/data_frames/runai_df/train_peak_df_filtered.txt', sep='\\t', header=True)\n",
    "valid_df.to_csv('/iblm/netapp/data4/jjaureguy/jupyter/data_frames/runai_df/valid_peak_df_filtered.txt', sep='\\t', header=True)\n",
    "test_df.to_csv('/iblm/netapp/data4/jjaureguy/jupyter/data_frames/runai_df/test_peak_df_filtered.txt', sep='\\t', header=True)"
   ]
  },
  {
   "cell_type": "code",
   "execution_count": null,
   "id": "4a7b9b6d-380e-4fe4-a372-7869da8692de",
   "metadata": {},
   "outputs": [],
   "source": []
  }
 ],
 "metadata": {
  "kernelspec": {
   "display_name": "Python [conda env:data_frame_env]",
   "language": "python",
   "name": "conda-env-data_frame_env-py"
  },
  "language_info": {
   "codemirror_mode": {
    "name": "ipython",
    "version": 3
   },
   "file_extension": ".py",
   "mimetype": "text/x-python",
   "name": "python",
   "nbconvert_exporter": "python",
   "pygments_lexer": "ipython3",
   "version": "3.8.13"
  }
 },
 "nbformat": 4,
 "nbformat_minor": 5
}
